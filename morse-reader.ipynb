{
 "cells": [
  {
   "cell_type": "code",
   "execution_count": 1,
   "id": "ac7baa91",
   "metadata": {
    "_cell_guid": "b1076dfc-b9ad-4769-8c92-a6c4dae69d19",
    "_uuid": "8f2839f25d086af736a60e9eeb907d3b93b6e0e5",
    "execution": {
     "iopub.execute_input": "2023-01-27T18:25:02.534222Z",
     "iopub.status.busy": "2023-01-27T18:25:02.533773Z",
     "iopub.status.idle": "2023-01-27T18:25:18.818136Z",
     "shell.execute_reply": "2023-01-27T18:25:18.816746Z"
    },
    "papermill": {
     "duration": 16.29693,
     "end_time": "2023-01-27T18:25:18.821265",
     "exception": false,
     "start_time": "2023-01-27T18:25:02.524335",
     "status": "completed"
    },
    "tags": []
   },
   "outputs": [
    {
     "name": "stdout",
     "output_type": "stream",
     "text": [
      "Collecting audio2numpy\r\n",
      "  Downloading audio2numpy-0.1.2-py3-none-any.whl (10 kB)\r\n",
      "Requirement already satisfied: numpy in /opt/conda/lib/python3.7/site-packages (from audio2numpy) (1.21.6)\r\n",
      "Collecting ffmpeg\r\n",
      "  Downloading ffmpeg-1.4.tar.gz (5.1 kB)\r\n",
      "  Preparing metadata (setup.py) ... \u001b[?25l-\b \bdone\r\n",
      "\u001b[?25hBuilding wheels for collected packages: ffmpeg\r\n",
      "  Building wheel for ffmpeg (setup.py) ... \u001b[?25l-\b \b\\\b \bdone\r\n",
      "\u001b[?25h  Created wheel for ffmpeg: filename=ffmpeg-1.4-py3-none-any.whl size=6084 sha256=b3866d4cdf9a12bf3a97ae807f53eea0b2c549e86c8df19828aa435670a3c6f5\r\n",
      "  Stored in directory: /root/.cache/pip/wheels/64/80/6e/caa3e16deb0267c3cbfd36862058a724144e19fdb9eb03af0f\r\n",
      "Successfully built ffmpeg\r\n",
      "Installing collected packages: ffmpeg, audio2numpy\r\n",
      "Successfully installed audio2numpy-0.1.2 ffmpeg-1.4\r\n",
      "\u001b[33mWARNING: Running pip as the 'root' user can result in broken permissions and conflicting behaviour with the system package manager. It is recommended to use a virtual environment instead: https://pip.pypa.io/warnings/venv\u001b[0m\u001b[33m\r\n",
      "\u001b[0m"
     ]
    }
   ],
   "source": [
    "# This Python 3 environment comes with many helpful analytics libraries installed\n",
    "# It is defined by the kaggle/python Docker image: https://github.com/kaggle/docker-python\n",
    "# For example, here's several helpful packages to load\n",
    "!pip install audio2numpy\n",
    "import numpy as np # linear algebra\n",
    "import pandas as pd # data processing, CSV file I/O (e.g. pd.read_csv)\n",
    "import os\n",
    "import collections\n",
    "import matplotlib.pyplot as plt\n",
    "import audio2numpy as a2n\n",
    "# Input data files are available in the read-only \"../input/\" directory\n",
    "# For example, running this (by clicking run or pressing Shift+Enter) will list all files under the input directory\n",
    "\n",
    "\n",
    "\n",
    "# You can write up to 20GB to the current directory (/kaggle/working/) that gets preserved as output when you create a version using \"Save & Run All\" \n",
    "# You can also write temporary files to /kaggle/temp/, but they won't be saved outside of the current session"
   ]
  },
  {
   "cell_type": "code",
   "execution_count": 2,
   "id": "2c518f31",
   "metadata": {
    "execution": {
     "iopub.execute_input": "2023-01-27T18:25:18.839092Z",
     "iopub.status.busy": "2023-01-27T18:25:18.837896Z",
     "iopub.status.idle": "2023-01-27T18:25:18.867651Z",
     "shell.execute_reply": "2023-01-27T18:25:18.866326Z"
    },
    "papermill": {
     "duration": 0.041406,
     "end_time": "2023-01-27T18:25:18.870473",
     "exception": false,
     "start_time": "2023-01-27T18:25:18.829067",
     "status": "completed"
    },
    "tags": []
   },
   "outputs": [
    {
     "name": "stdout",
     "output_type": "stream",
     "text": [
      "/kaggle/input/morse-sound/arrl.org-2013-2015/2013-10/130220_10.txt\n",
      "/kaggle/input/morse-sound/arrl.org-2013-2015/2013-10/131002_10WPM.mp3\n",
      "/kaggle/input/morse-sound/arrl.org-2013-2015/2013-10/130515_10WPM.mp3\n",
      "/kaggle/input/morse-sound/arrl.org-2013-2015/2013-10/130123_10WPM.mp3\n",
      "/kaggle/input/morse-sound/arrl.org-2013-2015/2013-10/130821_10WPM.mp3\n",
      "/kaggle/input/morse-sound/arrl.org-2013-2015/2013-10/130403_10.txt\n",
      "/kaggle/input/morse-sound/arrl.org-2013-2015/2013-10/130904_10WPM.mp3\n",
      "/kaggle/input/morse-sound/arrl.org-2013-2015/2013-10/131002_10.txt\n",
      "/kaggle/input/morse-sound/arrl.org-2013-2015/2013-10/130724_10WPM.mp3\n",
      "/kaggle/input/morse-sound/arrl.org-2013-2015/2013-10/131113_10.txt\n",
      "/kaggle/input/morse-sound/arrl.org-2013-2015/2013-10/130918_10WPM.mp3\n",
      "/kaggle/input/morse-sound/arrl.org-2013-2015/2013-10/131127_10.txt\n",
      "/kaggle/input/morse-sound/arrl.org-2013-2015/2013-10/130220_10WPM.mp3\n",
      "/kaggle/input/morse-sound/arrl.org-2013-2015/2013-10/130724_10.txt\n",
      "/kaggle/input/morse-sound/arrl.org-2013-2015/2013-10/130320_10.txt\n",
      "/kaggle/input/morse-sound/arrl.org-2013-2015/2013-10/130529_10WPM.mp3\n",
      "/kaggle/input/morse-sound/arrl.org-2013-2015/2013-10/131127_10WPM.mp3\n",
      "/kaggle/input/morse-sound/arrl.org-2013-2015/2013-10/130626_10.txt\n",
      "/kaggle/input/morse-sound/arrl.org-2013-2015/2013-10/130821_10.txt\n",
      "/kaggle/input/morse-sound/arrl.org-2013-2015/2013-10/130206_10WPM.mp3\n",
      "/kaggle/input/morse-sound/arrl.org-2013-2015/2013-10/130710_10WPM.mp3\n",
      "/kaggle/input/morse-sound/arrl.org-2013-2015/2013-10/131211_10WPM.mp3\n",
      "/kaggle/input/morse-sound/arrl.org-2013-2015/2013-10/130109_10.txt\n",
      "/kaggle/input/morse-sound/arrl.org-2013-2015/2013-10/130515_10.txt\n",
      "/kaggle/input/morse-sound/arrl.org-2013-2015/2013-10/130306_10.txt\n",
      "/kaggle/input/morse-sound/arrl.org-2013-2015/2013-10/131030_10.txt\n",
      "/kaggle/input/morse-sound/arrl.org-2013-2015/2013-10/130501_10.txt\n",
      "/kaggle/input/morse-sound/arrl.org-2013-2015/2013-10/130710_10.txt\n",
      "/kaggle/input/morse-sound/arrl.org-2013-2015/2013-10/130306_10WPM.mp3\n",
      "/kaggle/input/morse-sound/arrl.org-2013-2015/2013-10/131224_10.txt\n",
      "/kaggle/input/morse-sound/arrl.org-2013-2015/2013-10/130529_10.txt\n",
      "/kaggle/input/morse-sound/arrl.org-2013-2015/2013-10/130612_10WPM.mp3\n",
      "/kaggle/input/morse-sound/arrl.org-2013-2015/2013-10/130612_10.txt\n",
      "/kaggle/input/morse-sound/arrl.org-2013-2015/2013-10/130417_10WPM.mp3\n",
      "/kaggle/input/morse-sound/arrl.org-2013-2015/2013-10/130501_10WPM.mp3\n",
      "/kaggle/input/morse-sound/arrl.org-2013-2015/2013-10/131211_10.txt\n",
      "/kaggle/input/morse-sound/arrl.org-2013-2015/2013-10/131030_10WPM.mp3\n",
      "/kaggle/input/morse-sound/arrl.org-2013-2015/2013-10/130918_10.txt\n",
      "/kaggle/input/morse-sound/arrl.org-2013-2015/2013-10/130904_10.txt\n",
      "/kaggle/input/morse-sound/arrl.org-2013-2015/2013-10/130320_10WPM.mp3\n",
      "/kaggle/input/morse-sound/arrl.org-2013-2015/2013-10/130403_10WPM.mp3\n",
      "/kaggle/input/morse-sound/arrl.org-2013-2015/2013-10/131224_10WPM.mp3\n",
      "/kaggle/input/morse-sound/arrl.org-2013-2015/2013-10/130109_10WPM.mp3\n",
      "/kaggle/input/morse-sound/arrl.org-2013-2015/2013-10/130417_10.txt\n",
      "/kaggle/input/morse-sound/arrl.org-2013-2015/2013-10/130123_10.txt\n",
      "/kaggle/input/morse-sound/arrl.org-2013-2015/2013-10/130206_10.txt\n",
      "/kaggle/input/morse-sound/arrl.org-2013-2015/2013-10/130626_10WPM.mp3\n",
      "/kaggle/input/morse-sound/arrl.org-2013-2015/2013-10/131113_10WPM.mp3\n"
     ]
    }
   ],
   "source": [
    "input_data = \"/kaggle/input/morse-sound/arrl.org-2013-2015/2013-10\"\n",
    "for dirname, _, filenames in os.walk(input_data):\n",
    "    for filename in filenames:\n",
    "        print(os.path.join(dirname, filename))"
   ]
  },
  {
   "cell_type": "code",
   "execution_count": 3,
   "id": "9e248f83",
   "metadata": {
    "execution": {
     "iopub.execute_input": "2023-01-27T18:25:18.886985Z",
     "iopub.status.busy": "2023-01-27T18:25:18.886525Z",
     "iopub.status.idle": "2023-01-27T18:25:18.893554Z",
     "shell.execute_reply": "2023-01-27T18:25:18.892472Z"
    },
    "papermill": {
     "duration": 0.018064,
     "end_time": "2023-01-27T18:25:18.895919",
     "exception": false,
     "start_time": "2023-01-27T18:25:18.877855",
     "status": "completed"
    },
    "tags": []
   },
   "outputs": [],
   "source": [
    "# make a list of the files that are mp3 and that are txt\n",
    "audio_files = []\n",
    "text_files = []\n",
    "\n",
    "for dirname, _, filenames in os.walk(input_data):\n",
    "    for filename in filenames:\n",
    "        if os.path.splitext(filename)[1] == '.txt':\n",
    "            text_files.append(filename)\n",
    "        if os.path.splitext(filename)[1] == \".mp3\":\n",
    "            audio_files.append(filename)"
   ]
  },
  {
   "cell_type": "code",
   "execution_count": 4,
   "id": "b678b118",
   "metadata": {
    "execution": {
     "iopub.execute_input": "2023-01-27T18:25:18.911835Z",
     "iopub.status.busy": "2023-01-27T18:25:18.911401Z",
     "iopub.status.idle": "2023-01-27T18:25:18.917517Z",
     "shell.execute_reply": "2023-01-27T18:25:18.916008Z"
    },
    "papermill": {
     "duration": 0.016642,
     "end_time": "2023-01-27T18:25:18.919821",
     "exception": false,
     "start_time": "2023-01-27T18:25:18.903179",
     "status": "completed"
    },
    "tags": []
   },
   "outputs": [
    {
     "name": "stdout",
     "output_type": "stream",
     "text": [
      "['130109_10.txt', '130123_10.txt', '130206_10.txt', '130220_10.txt', '130306_10.txt', '130320_10.txt', '130403_10.txt', '130417_10.txt', '130501_10.txt', '130515_10.txt', '130529_10.txt', '130612_10.txt', '130626_10.txt', '130710_10.txt', '130724_10.txt', '130821_10.txt', '130904_10.txt', '130918_10.txt', '131002_10.txt', '131030_10.txt', '131113_10.txt', '131127_10.txt', '131211_10.txt', '131224_10.txt']\n"
     ]
    }
   ],
   "source": [
    "text_files =  sorted(text_files)\n",
    "print(text_files)"
   ]
  },
  {
   "cell_type": "code",
   "execution_count": 5,
   "id": "3e8c6b8d",
   "metadata": {
    "execution": {
     "iopub.execute_input": "2023-01-27T18:25:18.936300Z",
     "iopub.status.busy": "2023-01-27T18:25:18.935887Z",
     "iopub.status.idle": "2023-01-27T18:25:18.946039Z",
     "shell.execute_reply": "2023-01-27T18:25:18.944930Z"
    },
    "papermill": {
     "duration": 0.021155,
     "end_time": "2023-01-27T18:25:18.948328",
     "exception": false,
     "start_time": "2023-01-27T18:25:18.927173",
     "status": "completed"
    },
    "tags": []
   },
   "outputs": [
    {
     "data": {
      "text/plain": [
       "['130109_10.txt',\n",
       " '130123_10.txt',\n",
       " '130206_10.txt',\n",
       " '130220_10.txt',\n",
       " '130306_10.txt',\n",
       " '130320_10.txt',\n",
       " '130403_10.txt',\n",
       " '130417_10.txt',\n",
       " '130501_10.txt',\n",
       " '130515_10.txt',\n",
       " '130529_10.txt',\n",
       " '130612_10.txt',\n",
       " '130626_10.txt',\n",
       " '130710_10.txt',\n",
       " '130724_10.txt',\n",
       " '130821_10.txt',\n",
       " '130904_10.txt',\n",
       " '130918_10.txt',\n",
       " '131002_10.txt',\n",
       " '131030_10.txt',\n",
       " '131113_10.txt',\n",
       " '131127_10.txt',\n",
       " '131211_10.txt',\n",
       " '131224_10.txt']"
      ]
     },
     "execution_count": 5,
     "metadata": {},
     "output_type": "execute_result"
    }
   ],
   "source": [
    "text_files"
   ]
  },
  {
   "cell_type": "code",
   "execution_count": 6,
   "id": "f118ef0d",
   "metadata": {
    "execution": {
     "iopub.execute_input": "2023-01-27T18:25:18.965271Z",
     "iopub.status.busy": "2023-01-27T18:25:18.964863Z",
     "iopub.status.idle": "2023-01-27T18:25:18.970261Z",
     "shell.execute_reply": "2023-01-27T18:25:18.969213Z"
    },
    "papermill": {
     "duration": 0.016937,
     "end_time": "2023-01-27T18:25:18.972968",
     "exception": false,
     "start_time": "2023-01-27T18:25:18.956031",
     "status": "completed"
    },
    "tags": []
   },
   "outputs": [
    {
     "name": "stdout",
     "output_type": "stream",
     "text": [
      "['130109_10WPM.mp3', '130123_10WPM.mp3', '130206_10WPM.mp3', '130220_10WPM.mp3', '130306_10WPM.mp3', '130320_10WPM.mp3', '130403_10WPM.mp3', '130417_10WPM.mp3', '130501_10WPM.mp3', '130515_10WPM.mp3', '130529_10WPM.mp3', '130612_10WPM.mp3', '130626_10WPM.mp3', '130710_10WPM.mp3', '130724_10WPM.mp3', '130821_10WPM.mp3', '130904_10WPM.mp3', '130918_10WPM.mp3', '131002_10WPM.mp3', '131030_10WPM.mp3', '131113_10WPM.mp3', '131127_10WPM.mp3', '131211_10WPM.mp3', '131224_10WPM.mp3']\n"
     ]
    }
   ],
   "source": [
    "audio_files = sorted(audio_files)\n",
    "print(audio_files)"
   ]
  },
  {
   "cell_type": "code",
   "execution_count": 7,
   "id": "1447a6cb",
   "metadata": {
    "execution": {
     "iopub.execute_input": "2023-01-27T18:25:18.991040Z",
     "iopub.status.busy": "2023-01-27T18:25:18.990650Z",
     "iopub.status.idle": "2023-01-27T18:25:18.997739Z",
     "shell.execute_reply": "2023-01-27T18:25:18.996902Z"
    },
    "papermill": {
     "duration": 0.018244,
     "end_time": "2023-01-27T18:25:19.000154",
     "exception": false,
     "start_time": "2023-01-27T18:25:18.981910",
     "status": "completed"
    },
    "tags": []
   },
   "outputs": [
    {
     "name": "stdout",
     "output_type": "stream",
     "text": [
      "The lists match\n"
     ]
    }
   ],
   "source": [
    "#compare the lists\n",
    "audio_files_no_wpm = [x.replace('WPM', '') for x in audio_files] #remove the wpm in the files\n",
    "audio_files_no_wpm_no_ext = [x.replace('.mp3', '') for x in audio_files_no_wpm]\n",
    "text_files_no_ext = [x.replace('.txt', '') for x in text_files]\n",
    "\n",
    "if collections.Counter(audio_files_no_wpm_no_ext) == collections.Counter(text_files_no_ext):\n",
    "    print(\"The lists match\")\n",
    "else:\n",
    "    print(\"No match\")"
   ]
  },
  {
   "cell_type": "code",
   "execution_count": 8,
   "id": "46236a31",
   "metadata": {
    "execution": {
     "iopub.execute_input": "2023-01-27T18:25:19.016632Z",
     "iopub.status.busy": "2023-01-27T18:25:19.016233Z",
     "iopub.status.idle": "2023-01-27T18:25:19.023572Z",
     "shell.execute_reply": "2023-01-27T18:25:19.021851Z"
    },
    "papermill": {
     "duration": 0.018258,
     "end_time": "2023-01-27T18:25:19.025932",
     "exception": false,
     "start_time": "2023-01-27T18:25:19.007674",
     "status": "completed"
    },
    "tags": []
   },
   "outputs": [
    {
     "name": "stdout",
     "output_type": "stream",
     "text": [
      "130220.mp3\n",
      "131002_10.mp3\n",
      "130515_10.mp3\n",
      "130123_10.mp3\n",
      "130821_10.mp3\n",
      "130403.mp3\n",
      "130904_10.mp3\n",
      "131002.mp3\n",
      "130724_10.mp3\n",
      "131113.mp3\n",
      "130918_10.mp3\n",
      "131127.mp3\n",
      "130220_10.mp3\n",
      "130724.mp3\n",
      "130320.mp3\n",
      "130529_10.mp3\n",
      "131127_10.mp3\n",
      "130626.mp3\n",
      "130821.mp3\n",
      "130206_10.mp3\n",
      "130710_10.mp3\n",
      "131211_10.mp3\n",
      "130109.mp3\n",
      "130515.mp3\n",
      "130306.mp3\n",
      "131030.mp3\n",
      "130501.mp3\n",
      "130710.mp3\n",
      "130306_10.mp3\n",
      "131224.mp3\n",
      "130529.mp3\n",
      "130612_10.mp3\n",
      "130612.mp3\n",
      "130417_10.mp3\n",
      "130501_10.mp3\n",
      "131211.mp3\n",
      "131030_10.mp3\n",
      "130918.mp3\n",
      "130904.mp3\n",
      "130320_10.mp3\n",
      "130403_10.mp3\n",
      "131224_10.mp3\n",
      "130109_10.mp3\n",
      "130417.mp3\n",
      "130123.mp3\n",
      "130206.mp3\n",
      "130626_10.mp3\n",
      "131113_10.mp3\n"
     ]
    }
   ],
   "source": [
    "files = os.listdir(input_data)\n",
    "i = 1\n",
    "\n",
    "for file in files:\n",
    "    print(file[:-7]+\".mp3\")"
   ]
  },
  {
   "cell_type": "code",
   "execution_count": 9,
   "id": "64c448a1",
   "metadata": {
    "execution": {
     "iopub.execute_input": "2023-01-27T18:25:19.043312Z",
     "iopub.status.busy": "2023-01-27T18:25:19.042300Z",
     "iopub.status.idle": "2023-01-27T18:25:19.057130Z",
     "shell.execute_reply": "2023-01-27T18:25:19.056092Z"
    },
    "papermill": {
     "duration": 0.025675,
     "end_time": "2023-01-27T18:25:19.059315",
     "exception": false,
     "start_time": "2023-01-27T18:25:19.033640",
     "status": "completed"
    },
    "tags": []
   },
   "outputs": [
    {
     "data": {
      "text/plain": [
       "str"
      ]
     },
     "execution_count": 9,
     "metadata": {},
     "output_type": "execute_result"
    }
   ],
   "source": [
    "#read in a text file\n",
    "#https://www.geeksforgeeks.org/import-text-files-into-numpy-arrays/\n",
    "import numpy as np\n",
    "import codecs\n",
    "test_text_file = \"/kaggle/input/morse-sound/arrl.org-2013-2015/2013-10/130220_10.txt\"\n",
    "text =str(codecs.open(test_text_file, encoding=\"ISO-8859-1\").read())\n",
    "type(text)"
   ]
  },
  {
   "cell_type": "code",
   "execution_count": 10,
   "id": "4ecc0a33",
   "metadata": {
    "execution": {
     "iopub.execute_input": "2023-01-27T18:25:19.076844Z",
     "iopub.status.busy": "2023-01-27T18:25:19.075781Z",
     "iopub.status.idle": "2023-01-27T18:25:19.082143Z",
     "shell.execute_reply": "2023-01-27T18:25:19.081342Z"
    },
    "papermill": {
     "duration": 0.017284,
     "end_time": "2023-01-27T18:25:19.084185",
     "exception": false,
     "start_time": "2023-01-27T18:25:19.066901",
     "status": "completed"
    },
    "tags": []
   },
   "outputs": [
    {
     "data": {
      "text/plain": [
       "'\\r\\n\\x89  NOW 10 WPM  \\x89  TEXT IS FROM AUGUST 2012 QST  PAGE 90  \\x89\\r\\n\\r\\nOF STATIONS FROM ONE OF THE FOUR AREAS.  7.  IT IS INTERESTING TO\\r\\nEXPERIENCE HOW OFTEN EITHER CASUAL DX OR SOMETIMES BIG TIME DXPEDITIONS\\r\\nOPERATING FROM SOUTHEAST ASIA OR THE CENTRAL PACIFIC TRY TO IGNORE OR LIMIT\\r\\nVK/ZL CALLS ON THE BASIS THAT THEY CAN ALWAYS WORK THIS LOCATION SO WE WILL\\r\\nPLACE THEM ON HOLD AND WORK THEM WHEN WE HAVE TIME.  THEY SIMPLY FAIL TO\\r\\n\\x89  END OF 10 WPM TEXT  \\x89  QST DE W1AW  \\x83\\r\\n\\x1a'"
      ]
     },
     "execution_count": 10,
     "metadata": {},
     "output_type": "execute_result"
    }
   ],
   "source": [
    "text"
   ]
  },
  {
   "cell_type": "code",
   "execution_count": 11,
   "id": "f2b107bd",
   "metadata": {
    "execution": {
     "iopub.execute_input": "2023-01-27T18:25:19.101798Z",
     "iopub.status.busy": "2023-01-27T18:25:19.100795Z",
     "iopub.status.idle": "2023-01-27T18:25:19.106730Z",
     "shell.execute_reply": "2023-01-27T18:25:19.105651Z"
    },
    "papermill": {
     "duration": 0.016849,
     "end_time": "2023-01-27T18:25:19.108922",
     "exception": false,
     "start_time": "2023-01-27T18:25:19.092073",
     "status": "completed"
    },
    "tags": []
   },
   "outputs": [],
   "source": [
    "text = text.replace('\\r', ' ')\n",
    "text = text.replace('\\n', '')\n",
    "text = text.replace('\\x1a', '?')\n",
    "ascii_text = text.encode('ascii', 'replace')\n",
    "#ascii_text.decode('utf-8')"
   ]
  },
  {
   "cell_type": "code",
   "execution_count": 12,
   "id": "a4dd44da",
   "metadata": {
    "execution": {
     "iopub.execute_input": "2023-01-27T18:25:19.125969Z",
     "iopub.status.busy": "2023-01-27T18:25:19.125530Z",
     "iopub.status.idle": "2023-01-27T18:25:19.133304Z",
     "shell.execute_reply": "2023-01-27T18:25:19.132153Z"
    },
    "papermill": {
     "duration": 0.01904,
     "end_time": "2023-01-27T18:25:19.135517",
     "exception": false,
     "start_time": "2023-01-27T18:25:19.116477",
     "status": "completed"
    },
    "tags": []
   },
   "outputs": [
    {
     "data": {
      "text/plain": [
       "array(b' ?  NOW 10 WPM  ?  TEXT IS FROM AUGUST 2012 QST  PAGE 90  ?  OF STATIONS FROM ONE OF THE FOUR AREAS.  7.  IT IS INTERESTING TO EXPERIENCE HOW OFTEN EITHER CASUAL DX OR SOMETIMES BIG TIME DXPEDITIONS OPERATING FROM SOUTHEAST ASIA OR THE CENTRAL PACIFIC TRY TO IGNORE OR LIMIT VK/ZL CALLS ON THE BASIS THAT THEY CAN ALWAYS WORK THIS LOCATION SO WE WILL PLACE THEM ON HOLD AND WORK THEM WHEN WE HAVE TIME.  THEY SIMPLY FAIL TO ?  END OF 10 WPM TEXT  ?  QST DE W1AW  ? ?',\n",
       "      dtype='|S466')"
      ]
     },
     "execution_count": 12,
     "metadata": {},
     "output_type": "execute_result"
    }
   ],
   "source": [
    "text_array = np.array(ascii_text)\n",
    "text_array"
   ]
  },
  {
   "cell_type": "code",
   "execution_count": 13,
   "id": "87e52fb2",
   "metadata": {
    "execution": {
     "iopub.execute_input": "2023-01-27T18:25:19.153003Z",
     "iopub.status.busy": "2023-01-27T18:25:19.152566Z",
     "iopub.status.idle": "2023-01-27T18:25:20.472486Z",
     "shell.execute_reply": "2023-01-27T18:25:20.471304Z"
    },
    "papermill": {
     "duration": 1.331549,
     "end_time": "2023-01-27T18:25:20.474997",
     "exception": false,
     "start_time": "2023-01-27T18:25:19.143448",
     "status": "completed"
    },
    "tags": []
   },
   "outputs": [],
   "source": [
    "test_file = \"/kaggle/input/morse-sound/arrl.org-2013-2015/2013-10/131002_10WPM.mp3\"\n",
    "x,sr=a2n.audio_from_file(test_file)"
   ]
  },
  {
   "cell_type": "code",
   "execution_count": 14,
   "id": "36b296e8",
   "metadata": {
    "execution": {
     "iopub.execute_input": "2023-01-27T18:25:20.492902Z",
     "iopub.status.busy": "2023-01-27T18:25:20.492075Z",
     "iopub.status.idle": "2023-01-27T18:25:22.313715Z",
     "shell.execute_reply": "2023-01-27T18:25:22.312332Z"
    },
    "papermill": {
     "duration": 1.833367,
     "end_time": "2023-01-27T18:25:22.316266",
     "exception": false,
     "start_time": "2023-01-27T18:25:20.482899",
     "status": "completed"
    },
    "tags": []
   },
   "outputs": [
    {
     "data": {
      "text/plain": [
       "(0.0, 170000.0)"
      ]
     },
     "execution_count": 14,
     "metadata": {},
     "output_type": "execute_result"
    },
    {
     "data": {
      "image/png": "[encoded data removed]",
      "text/plain": [
       "<Figure size 432x288 with 1 Axes>"
      ]
     },
     "metadata": {
      "needs_background": "light"
     },
     "output_type": "display_data"
    }
   ],
   "source": [
    "plt.plot(x)\n",
    "plt.xlim([00000,170000])"
   ]
  },
  {
   "cell_type": "code",
   "execution_count": 15,
   "id": "50e49d93",
   "metadata": {
    "execution": {
     "iopub.execute_input": "2023-01-27T18:25:22.334869Z",
     "iopub.status.busy": "2023-01-27T18:25:22.334435Z",
     "iopub.status.idle": "2023-01-27T18:25:22.338811Z",
     "shell.execute_reply": "2023-01-27T18:25:22.338003Z"
    },
    "papermill": {
     "duration": 0.016071,
     "end_time": "2023-01-27T18:25:22.340941",
     "exception": false,
     "start_time": "2023-01-27T18:25:22.324870",
     "status": "completed"
    },
    "tags": []
   },
   "outputs": [],
   "source": [
    "import pandas as pd"
   ]
  },
  {
   "cell_type": "code",
   "execution_count": 16,
   "id": "057e6f31",
   "metadata": {
    "execution": {
     "iopub.execute_input": "2023-01-27T18:25:22.360343Z",
     "iopub.status.busy": "2023-01-27T18:25:22.359756Z",
     "iopub.status.idle": "2023-01-27T18:25:22.364952Z",
     "shell.execute_reply": "2023-01-27T18:25:22.363510Z"
    },
    "papermill": {
     "duration": 0.017823,
     "end_time": "2023-01-27T18:25:22.367689",
     "exception": false,
     "start_time": "2023-01-27T18:25:22.349866",
     "status": "completed"
    },
    "tags": []
   },
   "outputs": [],
   "source": [
    "#https://stackoverflow.com/questions/53633177/how-to-read-a-mp3-audio-file-into-a-numpy-array-save-a-numpy-array-to-mp3\n",
    "#https://stackoverflow.com/questions/18625085/how-to-plot-a-wav-file\n",
    "#https://pythonbasics.org/convert-mp3-to-wav/\n",
    "#https://docs.scipy.org/doc/scipy/reference/generated/scipy.signal.stft.html\n",
    "#https://towardsdatascience.com/machine-learning-on-sound-and-audio-data-3ae03bcf5095"
   ]
  },
  {
   "cell_type": "code",
   "execution_count": 17,
   "id": "f4d8378d",
   "metadata": {
    "execution": {
     "iopub.execute_input": "2023-01-27T18:25:22.387384Z",
     "iopub.status.busy": "2023-01-27T18:25:22.386215Z",
     "iopub.status.idle": "2023-01-27T18:25:22.392937Z",
     "shell.execute_reply": "2023-01-27T18:25:22.391135Z"
    },
    "papermill": {
     "duration": 0.019363,
     "end_time": "2023-01-27T18:25:22.395674",
     "exception": false,
     "start_time": "2023-01-27T18:25:22.376311",
     "status": "completed"
    },
    "tags": []
   },
   "outputs": [
    {
     "name": "stdout",
     "output_type": "stream",
     "text": [
      "/kaggle/input/morse-sound/arrl.org-2013-2015/2013-10/130109_10WPM.mp3\n",
      "/kaggle/input/morse-sound/arrl.org-2013-2015/2013-10/130123_10WPM.mp3\n",
      "/kaggle/input/morse-sound/arrl.org-2013-2015/2013-10/130206_10WPM.mp3\n",
      "/kaggle/input/morse-sound/arrl.org-2013-2015/2013-10/130220_10WPM.mp3\n",
      "/kaggle/input/morse-sound/arrl.org-2013-2015/2013-10/130306_10WPM.mp3\n",
      "/kaggle/input/morse-sound/arrl.org-2013-2015/2013-10/130320_10WPM.mp3\n",
      "/kaggle/input/morse-sound/arrl.org-2013-2015/2013-10/130403_10WPM.mp3\n",
      "/kaggle/input/morse-sound/arrl.org-2013-2015/2013-10/130417_10WPM.mp3\n",
      "/kaggle/input/morse-sound/arrl.org-2013-2015/2013-10/130501_10WPM.mp3\n",
      "/kaggle/input/morse-sound/arrl.org-2013-2015/2013-10/130515_10WPM.mp3\n",
      "/kaggle/input/morse-sound/arrl.org-2013-2015/2013-10/130529_10WPM.mp3\n",
      "/kaggle/input/morse-sound/arrl.org-2013-2015/2013-10/130612_10WPM.mp3\n",
      "/kaggle/input/morse-sound/arrl.org-2013-2015/2013-10/130626_10WPM.mp3\n",
      "/kaggle/input/morse-sound/arrl.org-2013-2015/2013-10/130710_10WPM.mp3\n",
      "/kaggle/input/morse-sound/arrl.org-2013-2015/2013-10/130724_10WPM.mp3\n",
      "/kaggle/input/morse-sound/arrl.org-2013-2015/2013-10/130821_10WPM.mp3\n",
      "/kaggle/input/morse-sound/arrl.org-2013-2015/2013-10/130904_10WPM.mp3\n",
      "/kaggle/input/morse-sound/arrl.org-2013-2015/2013-10/130918_10WPM.mp3\n",
      "/kaggle/input/morse-sound/arrl.org-2013-2015/2013-10/131002_10WPM.mp3\n",
      "/kaggle/input/morse-sound/arrl.org-2013-2015/2013-10/131030_10WPM.mp3\n",
      "/kaggle/input/morse-sound/arrl.org-2013-2015/2013-10/131113_10WPM.mp3\n",
      "/kaggle/input/morse-sound/arrl.org-2013-2015/2013-10/131127_10WPM.mp3\n",
      "/kaggle/input/morse-sound/arrl.org-2013-2015/2013-10/131211_10WPM.mp3\n",
      "/kaggle/input/morse-sound/arrl.org-2013-2015/2013-10/131224_10WPM.mp3\n"
     ]
    }
   ],
   "source": [
    "for mp3 in audio_files:\n",
    "    print(input_data+'/'+mp3)"
   ]
  },
  {
   "cell_type": "code",
   "execution_count": 18,
   "id": "e1445216",
   "metadata": {
    "execution": {
     "iopub.execute_input": "2023-01-27T18:25:22.414495Z",
     "iopub.status.busy": "2023-01-27T18:25:22.414073Z",
     "iopub.status.idle": "2023-01-27T18:25:22.435406Z",
     "shell.execute_reply": "2023-01-27T18:25:22.434215Z"
    },
    "papermill": {
     "duration": 0.033352,
     "end_time": "2023-01-27T18:25:22.437715",
     "exception": false,
     "start_time": "2023-01-27T18:25:22.404363",
     "status": "completed"
    },
    "tags": []
   },
   "outputs": [
    {
     "data": {
      "text/html": [
       "<div>\n",
       "<style scoped>\n",
       "    .dataframe tbody tr th:only-of-type {\n",
       "        vertical-align: middle;\n",
       "    }\n",
       "\n",
       "    .dataframe tbody tr th {\n",
       "        vertical-align: top;\n",
       "    }\n",
       "\n",
       "    .dataframe thead th {\n",
       "        text-align: right;\n",
       "    }\n",
       "</style>\n",
       "<table border=\"1\" class=\"dataframe\">\n",
       "  <thead>\n",
       "    <tr style=\"text-align: right;\">\n",
       "      <th></th>\n",
       "      <th>Filename</th>\n",
       "      <th>text</th>\n",
       "      <th>waveform</th>\n",
       "    </tr>\n",
       "  </thead>\n",
       "  <tbody>\n",
       "  </tbody>\n",
       "</table>\n",
       "</div>"
      ],
      "text/plain": [
       "Empty DataFrame\n",
       "Columns: [Filename, text, waveform]\n",
       "Index: []"
      ]
     },
     "execution_count": 18,
     "metadata": {},
     "output_type": "execute_result"
    }
   ],
   "source": [
    "#So we need to make an array of the mp3's as numpy arrays, and an array of the text files, and then we can do some comparison\n",
    "mp3_df = pd.DataFrame(columns = ['Filename', 'text', 'waveform'])\n",
    "mp3_df"
   ]
  },
  {
   "cell_type": "markdown",
   "id": "15395567",
   "metadata": {
    "papermill": {
     "duration": 0.008053,
     "end_time": "2023-01-27T18:25:22.454313",
     "exception": false,
     "start_time": "2023-01-27T18:25:22.446260",
     "status": "completed"
    },
    "tags": []
   },
   "source": []
  },
  {
   "cell_type": "code",
   "execution_count": 19,
   "id": "df803e26",
   "metadata": {
    "execution": {
     "iopub.execute_input": "2023-01-27T18:25:22.473566Z",
     "iopub.status.busy": "2023-01-27T18:25:22.472506Z",
     "iopub.status.idle": "2023-01-27T18:25:46.677867Z",
     "shell.execute_reply": "2023-01-27T18:25:46.676360Z"
    },
    "papermill": {
     "duration": 24.217921,
     "end_time": "2023-01-27T18:25:46.680699",
     "exception": false,
     "start_time": "2023-01-27T18:25:22.462778",
     "status": "completed"
    },
    "tags": []
   },
   "outputs": [],
   "source": [
    "mp3_list = []\n",
    "for mp3 in audio_files:\n",
    "    x,sr=a2n.audio_from_file(input_data+'/'+mp3)\n",
    "    mp3_list.append(x)"
   ]
  },
  {
   "cell_type": "code",
   "execution_count": 20,
   "id": "aa58bbc5",
   "metadata": {
    "execution": {
     "iopub.execute_input": "2023-01-27T18:25:46.700145Z",
     "iopub.status.busy": "2023-01-27T18:25:46.699713Z",
     "iopub.status.idle": "2023-01-27T18:25:46.712630Z",
     "shell.execute_reply": "2023-01-27T18:25:46.711686Z"
    },
    "papermill": {
     "duration": 0.025385,
     "end_time": "2023-01-27T18:25:46.714972",
     "exception": false,
     "start_time": "2023-01-27T18:25:46.689587",
     "status": "completed"
    },
    "tags": []
   },
   "outputs": [
    {
     "data": {
      "text/plain": [
       "[array([0., 0., 0., ..., 0., 0., 0.], dtype=float32),\n",
       " array([0., 0., 0., ..., 0., 0., 0.], dtype=float32),\n",
       " array([0., 0., 0., ..., 0., 0., 0.], dtype=float32),\n",
       " array([0., 0., 0., ..., 0., 0., 0.], dtype=float32),\n",
       " array([0., 0., 0., ..., 0., 0., 0.], dtype=float32),\n",
       " array([0., 0., 0., ..., 0., 0., 0.], dtype=float32),\n",
       " array([0., 0., 0., ..., 0., 0., 0.], dtype=float32),\n",
       " array([0., 0., 0., ..., 0., 0., 0.], dtype=float32),\n",
       " array([0., 0., 0., ..., 0., 0., 0.], dtype=float32),\n",
       " array([0., 0., 0., ..., 0., 0., 0.], dtype=float32),\n",
       " array([0., 0., 0., ..., 0., 0., 0.], dtype=float32),\n",
       " array([0., 0., 0., ..., 0., 0., 0.], dtype=float32),\n",
       " array([0., 0., 0., ..., 0., 0., 0.], dtype=float32),\n",
       " array([0., 0., 0., ..., 0., 0., 0.], dtype=float32),\n",
       " array([0., 0., 0., ..., 0., 0., 0.], dtype=float32),\n",
       " array([0., 0., 0., ..., 0., 0., 0.], dtype=float32),\n",
       " array([0., 0., 0., ..., 0., 0., 0.], dtype=float32),\n",
       " array([0., 0., 0., ..., 0., 0., 0.], dtype=float32),\n",
       " array([0., 0., 0., ..., 0., 0., 0.], dtype=float32),\n",
       " array([0., 0., 0., ..., 0., 0., 0.], dtype=float32),\n",
       " array([0., 0., 0., ..., 0., 0., 0.], dtype=float32),\n",
       " array([0., 0., 0., ..., 0., 0., 0.], dtype=float32),\n",
       " array([0., 0., 0., ..., 0., 0., 0.], dtype=float32),\n",
       " array([0., 0., 0., ..., 0., 0., 0.], dtype=float32)]"
      ]
     },
     "execution_count": 20,
     "metadata": {},
     "output_type": "execute_result"
    }
   ],
   "source": [
    "mp3_list"
   ]
  },
  {
   "cell_type": "code",
   "execution_count": 21,
   "id": "6eece641",
   "metadata": {
    "execution": {
     "iopub.execute_input": "2023-01-27T18:25:46.735248Z",
     "iopub.status.busy": "2023-01-27T18:25:46.734485Z",
     "iopub.status.idle": "2023-01-27T18:25:46.799045Z",
     "shell.execute_reply": "2023-01-27T18:25:46.797799Z"
    },
    "papermill": {
     "duration": 0.07764,
     "end_time": "2023-01-27T18:25:46.801762",
     "exception": false,
     "start_time": "2023-01-27T18:25:46.724122",
     "status": "completed"
    },
    "tags": []
   },
   "outputs": [],
   "source": [
    "#make the array of text files\n",
    "text_list = []\n",
    "for text_file in text_files:\n",
    "    text =str(codecs.open(input_data+'/'+text_file, encoding=\"ISO-8859-1\").read())\n",
    "    text = text.replace('\\r', ' ')\n",
    "    text = text.replace('\\n', '')\n",
    "    text = text.replace('\\x1a', '?')\n",
    "    ascii_text = text.encode('ascii', 'replace')\n",
    "    text_list.append(ascii_text)"
   ]
  },
  {
   "cell_type": "code",
   "execution_count": 22,
   "id": "a7a89445",
   "metadata": {
    "execution": {
     "iopub.execute_input": "2023-01-27T18:25:46.821192Z",
     "iopub.status.busy": "2023-01-27T18:25:46.820757Z",
     "iopub.status.idle": "2023-01-27T18:25:46.828892Z",
     "shell.execute_reply": "2023-01-27T18:25:46.827687Z"
    },
    "papermill": {
     "duration": 0.020974,
     "end_time": "2023-01-27T18:25:46.831665",
     "exception": false,
     "start_time": "2023-01-27T18:25:46.810691",
     "status": "completed"
    },
    "tags": []
   },
   "outputs": [
    {
     "data": {
      "text/plain": [
       "[b' ?  NOW 10 WPM  ?  TEXT IS FROM JULY 2012 QST  PAGE 55  ?  TELEVISION WAS POPULAR THE TYPICAL TRANSMISSION LINE WAS OPEN WIRE OR TWISTED PAIR CONNECTED TO A LINK COUPLED TUNED RESONANT CIRCUIT AT THE OUTPUT OF THE TRANSMITTER, USUALLY WITH DIFFERENT PLUG IN COILS FOR EACH BAND.  BY ADJUSTING THE VARIABLE CAPACITOR, SOME ADJUSTMENT COULD BE MADE TO COMPENSATE FOR REACTANCE IN THE LOAD.  IN ADDITION, SOME HAD AN ?  END OF 10 WPM TEXT  ?  QST DE W1AW  ? ?',\n",
       " b' ?  NOW 10 WPM  ?  TEXT IS FROM JULY 2012 QST  PAGE 75  ?  HAD A MILITARY BACKGROUND AND WAS A NATURAL LEADER WHO LED BY EXAMPLE TO PUT OUR RAGTAG TEAM TOGETHER TO GET THE JOB DONE.  I PLAYED HOOKY FROM SCHOOL TO HELP SUPPORT THE SEARCH EFFORT NOT SO MUCH OUT OF A SPIRIT OF PUBLIC SERVICE, BUT TO SEE MY FRIENDS AND PLAY RADIO IN THE FIELD.  EACH OF US WAS ASSIGNED TO THE VARIOUS DISCIPLINES OF EMERGENCY MANAGEMENT, LAW ?  END OF 10 WPM TEXT  ?  QST DE W1AW  ? ?',\n",
       " b' ?  NOW 10 WPM  ?  TEXT IS FROM JULY 2012 QST  PAGE 55  ?  TELEVISION WAS POPULAR THE TYPICAL TRANSMISSION LINE WAS OPEN WIRE OR TWISTED PAIR CONNECTED TO A LINK COUPLED TUNED RESONANT CIRCUIT AT THE OUTPUT OF THE TRANSMITTER, USUALLY WITH DIFFERENT PLUG IN COILS FOR EACH BAND.  BY ADJUSTING THE VARIABLE CAPACITOR, SOME ADJUSTMENT COULD BE MADE TO COMPENSATE FOR REACTANCE IN THE LOAD.  IN ADDITION, SOME HAD AN ?  END OF 10 WPM TEXT  ?  QST DE W1AW  ? ?',\n",
       " b' ?  NOW 10 WPM  ?  TEXT IS FROM AUGUST 2012 QST  PAGE 90  ?  OF STATIONS FROM ONE OF THE FOUR AREAS.  7.  IT IS INTERESTING TO EXPERIENCE HOW OFTEN EITHER CASUAL DX OR SOMETIMES BIG TIME DXPEDITIONS OPERATING FROM SOUTHEAST ASIA OR THE CENTRAL PACIFIC TRY TO IGNORE OR LIMIT VK/ZL CALLS ON THE BASIS THAT THEY CAN ALWAYS WORK THIS LOCATION SO WE WILL PLACE THEM ON HOLD AND WORK THEM WHEN WE HAVE TIME.  THEY SIMPLY FAIL TO ?  END OF 10 WPM TEXT  ?  QST DE W1AW  ? ?',\n",
       " b' ?  NOW 10 WPM  ?  TEXT IS FROM AUGUST 2012 QST  PAGE 91  ?  EXAMPLE, CALLING VK/ZL AT 0300 UTC IS NOT A VERY PRODUCTIVE IDEA BUT I HAVE HEARD A LOT OF DX TRY.  ONE OF THE OPERATING HABITS NOW REGULARLY DISPLAYED BY VK/ZL DXERS IS TO CALL THE DXPEDITION IRRESPECTIVE OF WHETHER HE IS CALLING FOR A SPECIFIC AREA OR NOT.  NOW, THIS MAY WELL BE DOWNRIGHT RUDENESS BY THE VK/ZL, AND WILL CERTAINLY BE SEEN AS SUCH BY SOME DXERS, ?  END OF 10 WPM TEXT  ?  QST DE W1AW  ? ?',\n",
       " b' ?  NOW 10 WPM  ?  TEXT IS FROM AUGUST 2012 QST  PAGE 38  ?  APPLY THE TONE.  ARRL MEMBER DAVID SPEARING, KB9CSW, WAS FIRST LICENSED IN 1989.  HIS INTEREST IN ELECTRONICS BEGAN IN THE LATE 1950S WHILE IN JUNIOR HIGH SCHOOL.  THE INTEREST CONTINUED LEADING HIM TO VLF RADIO AND EVENTUALLY TO HAM RADIO.  HE EARNED HIS AMATEUR EXTRA CLASS LICENSE IN 2005.  HE IS ACTIVE IN THE COLUMBIA COUNTY ARES/RACES GROUP, FOR WHICH HE ?  END OF 10 WPM TEXT  ?  QST DE W1AW  ? ?',\n",
       " b' ?  NOW 10 WPM  ?  TEXT IS FROM AUGUST 2012 QST  PAGE 68  ?  WIRELESS EXPERIMENTERS WHO ROAMED THE AIRWAVES IN THE EARLY 20TH CENTURY. THERE IS ONE BIG DIFFERENCE, HOWEVER YOU HAVE A LICENSE TO OPERATE, AS WELL AS A CALL SIGN ISSUED BY THE FEDERAL GOVERNMENT AND RULES THAT MUST BE FOLLOWED.  PRIOR TO DECEMBER 1912 WHEN THE RADIO ACT OF 1912 WENT INTO EFFECT THERE WERE NO AMATEUR RADIO LICENSES IN FACT, THERE WERE FEW ?  END OF 10 WPM TEXT  ?  QST DE W1AW  ? ?',\n",
       " b' ?  NOW 10 WPM  ?  TEXT IS FROM AUGUST 2012 QST  PAGE 66  ?  THE ARRL JUNE VHF QSO PARTY WAS A GOOD CHANCE TO TEST THE SOLAR PANELS UNDER HEAVY LOAD AND THEY WORKED WELL DURING THE WHOLE CONTEST.  IN JULY I AGAIN USED THE SYSTEM IN NORTHERN CALIFORNIA AND EVERYTHING WAS WORKING FINE FOR ALL SIX OF THE SSB AND FM SATELLITES.  I WAS READY FOR CM79. PLANS CAN CHANGE FOUR DAYS BEFORE LEAVING FOR CM 79, I RECEIVED AN E MAIL ?  END OF 10 WPM TEXT  ?  QST DE W1AW  ? ?',\n",
       " b' ?  NOW 10 WPM  ?  TEXT IS FROM AUGUST 2012 QST  PAGE 68  ?  THE TITANIC SAILED, DID NOT FEEL THAT A FULL COMPLEMENT OF LIFEBOATS WAS NEEDED ON ITS SHIPS, BELIEVING THAT WIRELESS COULD BE USED TO SEND DISTRESS CALLS AND OTHER SHIPS WOULD RESPOND IN TIME.  ON BOTH SIDES OF THE ATLANTIC, HEARINGS WERE HELD TO DETERMINE WAYS TO ENSURE THAT SUCH A TRAGEDY WOULD NEVER HAPPEN AGAIN.  THE DAY AFTER THE TITANIC SURVIVORS ?  END OF 10 WPM TEXT  ?  QST DE W1AW  ? ?',\n",
       " b' ?  NOW 10 WPM  ?  TEXT IS FROM AUGUST 2012 QST  PAGE 76  ?  MAGNITUDE EARTHQUAKE IN THE PACIFIC OCEAN AFFECTED AMERICAN SAMOA WITH A TSUNAMI THAT CAUSED SIGNIFICANT DAMAGE.  FEMA ACTIVATED ESF 2 THE COMMUNICATIONS EMERGENCY SUPPORT FUNCTION AT BOTH THE NATIONAL AND REGIONAL LEVELS.  THE NCS DEPLOYED PERSONNEL TO THE NATIONAL RESPONSE COORDINATION CENTER IN WASHINGTON AND THE REGION IX REGIONAL RESPONSE COORDINATION ?  END OF 10 WPM TEXT  ?  QST DE W1AW  ? ?',\n",
       " b' ?  NOW 10 WPM  ?  TEXT IS FROM SEPTEMBER 2012 QST  PAGE 59  ?  ASSEMBLY OF THE MINI STATION, I FOUND THAT THE BOOK BLOCKED THE SOUND FROM THE FT 857S SPEAKER.  I ELECTED TO MOUNT A REMOTE SPEAKER JACK, WITH A SMALL 1/8 INCH RIGHT ANGLE STEREO JACK GOING TO THE HEADPHONE JACK ON THE LEFT SIDE OF THE RADIO.  INTO THIS I PLUG A HEADPHONE SPLITTER JACK, WHICH JUST HAPPENS TO COME OUT PERFECTLY AT THE EDGE OF THE TRANSCEIVER BOOK.  A ?  END OF 10 WPM TEXT  ?  QST DE W1AW  ? ?',\n",
       " b' ?  NOW 10 WPM  ?  TEXT IS FROM SEPTEMBER 2012 QST  PAGE 32  ?  STRIKES BACK IN AN UNSCHEDULED STRESS TEST, THE ANTENNA SURVIVED TROPICAL STORM IRENE.  WHILE THERE WERE GALE FORCE WINDS IN CONNECTICUT, IT SURVIVED WELL.  BUT THEN CAME THE PRE HALLOWEEN 2011 SNOWSTORM.  THE WET SNOW FALLING ON TREES STILL IN FULL LEAF BROUGHT DOWN BRANCHES AND TREES BY THE MILLIONS HERE.  POWER WENT OUT FOR DAYS TO WEEKS TO HUNDREDS OF THOUSANDS ?  END OF 10 WPM TEXT  ?  QST DE W1AW  ? ?',\n",
       " b' ?  NOW 10 WPM  ?  TEXT IS FROM SEPTEMBER 2012 QST  PAGE 61  ?  SCOUTING, CAN BE A LIFE LONG INTEREST AND IT REINFORCES GOOD CITIZENSHIP AND COMMUNITY SERVICE VALUES AS WELL AS PROVIDING AVENUES FOR CAREER DEVELOPMENT.  SINCE 1910, SCOUTING HAS SERVED 114 MILLION YOUTHS WITH 2 MILLION ONLY 2 ACHIEVING THE RANK OF EAGLE SCOUT AND 181 39 EAGLE SCOUTS BECOMING ASTRONAUTS.  ALONG THE WAY, THEY EARNED 117 MILLION MERIT BADGES. ?  END OF 10 WPM TEXT  ?  QST DE W1AW  ? ?',\n",
       " b' ?  NOW 10 WPM  ?  TEXT IS FROM SEPTEMBER 2012 QST  PAGE 30  ?  NEEDED WAS SOME FORM OF LOADED DIPOLE THAT COULD FIT ALONG ONE SIDE OF THE YARD.  MAJOR CONSIDERATIONS INCLUDED THE PROBLEM THAT MY NEIGHBORS YARD ON THAT SIDE IS A GOOD 5 FEET HIGHER THAN MY YARD AND THERE IS A SHARP DROP OFF AT THE PROPERTY LINE.  OUR HOME HAS ALUMINUM SIDING AND THERE ARE NO SUPPORTS FOR ANTENNAS ON TWO OTHER SIDES.  BUT, ON ONE SIDE, THERE IS THAT ?  END OF 10 WPM TEXT  ?  QST DE W1AW  ? ?',\n",
       " b' ?  NOW 10 WPM  ?  TEXT IS FROM SEPTEMBER 2012 QST  PAGE 95  ?  IS AWARDED TO AN ARRL MEMBER OR MEMBERS WHO HAVE SHOWN LONG TERM DEDICATION TO THE GOALS AND OBJECTIVES OF ARRL AND AMATEUR RADIO AND WHO HAVE GONE THE EXTRA MILE TO SUPPORT INDIVIDUAL LEAGUE PROGRAMS AND GOALS.  NOMINATIONS FOR THE AWARD COME FROM ARRL DIRECTORS AND ARE APPROVED BY THE ARRL PRESIDENT AND THE EXECUTIVE COMMITTEE.  PRESIDENT KAY CRAIGIES ACCOMPANYING ?  END OF 10 WPM TEXT  ?  QST DE W1AW  ? ?',\n",
       " b' ?  NOW 10 WPM  ?  TEXT IS FROM OCTOBER 2012 QST  PAGE 80  ?  AREA, IT IS HOME TO 13R4 MILLION PEOPLE 39 OF CANADAS TOTAL POPULATION AND 60 OF THE COUNTRYS AMATEURS.  MOST OF THIS POPULATION IS CONCENTRATED IN THE CITY OF TORONTO AND SURROUNDING MUNICIPALITIES.  BY 2010, IT HAD BECOME CLEAR THAT TRYING TO MANAGE ONTARIO AS A SINGLE RAC SECTION WAS BECOMING UNTENABLE.  IMAGINE CALIFORNIA AS A SINGLE ARRL SECTION AND YOU HAVE THE ?  END OF 10 WPM TEXT  ?  QST DE W1AW  ? ?',\n",
       " b' ?  NOW 10 WPM  ?  TEXT IS FROM OCTOBER 2012 QST  PAGE 59  ?  THE SAME.  IN A NUTSHELL, A REGENERATIVE RECEIVER RELIES ON POSITIVE FEEDBACK THE REGENERATION OF THE RECEIVED SIGNAL TO CAUSE AN ENORMOUS INCREASE IN THE Q OF ITS TUNED CIRCUIT DETECTOR.  THE RESULT IS A VERY SHARP DIRECT CONVERSION RECEIVER.  WHEN TUNED CORRECTLY, A REGENERATIVE RECEIVER CAN OFFER A SURPRISING AMOUNT OF SENSITIVITY AND SELECTIVITY.  THE ?  END OF 10 WPM TEXT  ?  QST DE W1AW  ? ?',\n",
       " b' ?  NOW 10 WPM  ?  TEXT IS FROM OCTOBER 2012 QST  PAGE 63  ?  NO REFLECTING SURFACES CAN BE LOCATED, THEN WE HAVE A FREE SPACE ANTENNA RANGE.  A GOOD APPROXIMATION IS AN ELEVATED RANGE WITH HEIGHT MUCH GREATER THAN THE SIGNAL PATH SO GROUND REFLECTION IS MINIMIZED.  THIS MIGHT BE POSSIBLE WITH TWO TALL TOWERS OR THE ROOFS OF TWO TALL BUILDINGS, AS SHOWN IN FIGURE 1, BUT MOST OF US MUST WORK ON THE GROUND AND MANAGE THE ?  END OF 10 WPM TEXT  ?  QST DE W1AW  ? ?',\n",
       " b' ?  NOW 10 WPM  ?  TEXT IS FROM OCTOBER 2012 QST  PAGE 63  ?  NO REFLECTING SURFACES CAN BE LOCATED, THEN WE HAVE A FREE SPACE ANTENNA RANGE.  A GOOD APPROXIMATION IS AN ELEVATED RANGE WITH HEIGHT MUCH GREATER THAN THE SIGNAL PATH SO GROUND REFLECTION IS MINIMIZED.  THIS MIGHT BE POSSIBLE WITH TWO TALL TOWERS OR THE ROOFS OF TWO TALL BUILDINGS, AS SHOWN IN FIGURE 1, BUT MOST OF US MUST WORK ON THE GROUND AND MANAGE THE ?  END OF 10 WPM TEXT  ?  QST DE W1AW  ? ?',\n",
       " b' ?  NOW 10 WPM  ?  TEXT IS FROM OCTOBER 2012 QST  PAGE 63  ?  DESIGN AND AVAILABILITY.  CONVERSELY, SOME POOR DESIGNS AND PRODUCTS HAVE FADED INTO OBLIVION PERHAPS YOU HAVE WONDERED WHY NO ONE USES THE XXX ANTENNA ANYMORE.  THESE ANTENNA MEASURING SESSIONS CONTINUE TODAY, WITH ONE SCHEDULED AT MICROWAVE UPDATE 2012 WWW. MICROWAVEUPDATE. ORG.  I DONT THINK I CAN DESCRIBE ANTENNA MEASUREMENTS ADEQUATELY IN TWO PAGES, SO THIS TOPIC ?  END OF 10 WPM TEXT  ?  QST DE W1AW  ? ?',\n",
       " b' ?  NOW 10 WPM  ?  TEXT IS FROM OCTOBER 2012 QST  PAGE 98  ?  DISCRIMINATE BETWEEN, NOT CLOSE TOGETHER SIGNALS, BUT REALLY ONLY BETWEEN A DESIRED SIGNAL AND ITS IMAGE 900 TO 1,000 KC.  AWAY.  THIS IT CAN EASILY DO AND ACTUALLY MUCH BETTER, BY VIRTUE OF A GOOD HIGH Q CIRCUIT, PLUS REGENERATION.  THE 6C6 FIRST DETECTOR FEEDS A DUAL TUNED ALADDIN POLYIRON IRON CORED I.F.  TRANSFORMER TUNED TO ANYWHERE BETWEEN 460 AND 600 KC.  THE ?  END OF 10 WPM TEXT  ?  QST DE W1AW  ? ?',\n",
       " b' ?  NOW 10 WPM  ?  TEXT IS FROM NOVEMBER 2012 QST  PAGE 95  ? PROBABILITY OF 6 METER F2 PROPAGATION MAY OCCUR WHEN THE 10R7 CM SOLAR FLUX IS AROUND 140 OR AN SSN OF 82.  FORTUNATELY, THE SSN CAN VARY WEEK TO WEEK UP FROM THE SMOOTHED NUMBER AND CYCLE 24 COULD HAVE TWO PEAKS SIMILAR TO CYCLE 23.  THE FIRST PEAK MAY HAVE BEEN IN NOVEMBER 2011, WHEN THE SSN WAS OVER 95.  TRANS CON AND EVEN F2 TO GREENLAND, ICELAND AND NORTHERN EUROPE ?  END OF 10 WPM TEXT  ?  QST DE W1AW  ? ?',\n",
       " b' ?  NOW 10 WPM  ?  TEXT IS FROM NOVEMBER 2012 QST  PAGE 96  ?  5760 MHZ AT K0VXM WAS ALL ANTENNA MOUNTED.  CHUCK RUNS 7 WATTS TO A DIGITAL SATELLITE SYSTEM DSS DISH AT 28 FT.  THE STATION AT W5LUA CONSISTED OF A 5 FT MESH DISH AT 70 FT ON A SIDE MOUNT.  EW 53 WAVEGUIDE IS USED TO FEED THE ANTENNA.  DOWNSTAIRS, I USED A 150 W SOLID STATE POWER AMPLIFIER SSPA.  THE EQUIPMENT ON 10368 MHZ AT K0VXM IS ALSO ALL ANTENNA MOUNTED.  CHUCK RUNS 7 ?  END OF 10 WPM TEXT  ?  QST DE W1AW  ? ?',\n",
       " b' ?  NOW 10 WPM  ?  TEXT IS FROM NOVEMBER 2012 QST  PAGE 79  ?  PROPOSAL TO HOST THE CENTENNIAL CONVENTION IN HARTFORD WAS REINFORCED BY THE ORGANIZERS OF THE ARRL NEW ENGLAND DIVISION CONVENTION, HELD EVERY TWO YEARS IN BOXBOROUGH, MASSACHUSETTS.  BOXBOROUGHS ORGANIZING SPONSOR, FEMARA, INC., HAS GRACIOUSLY AGREED TO FORGO HOLDING A CONVENTION IN 2014, SAID ARRL CHIEF OPERATING OFFICER HAROLD KRAMER, WJ1B.  INSTEAD, FEMARA HAS ?  END OF 10 WPM TEXT  ?  QST DE W1AW  ? ?']"
      ]
     },
     "execution_count": 22,
     "metadata": {},
     "output_type": "execute_result"
    }
   ],
   "source": [
    "text_list"
   ]
  },
  {
   "cell_type": "code",
   "execution_count": 23,
   "id": "6565699e",
   "metadata": {
    "execution": {
     "iopub.execute_input": "2023-01-27T18:25:46.851813Z",
     "iopub.status.busy": "2023-01-27T18:25:46.851347Z",
     "iopub.status.idle": "2023-01-27T18:25:47.881106Z",
     "shell.execute_reply": "2023-01-27T18:25:47.879675Z"
    },
    "papermill": {
     "duration": 1.043949,
     "end_time": "2023-01-27T18:25:47.884666",
     "exception": false,
     "start_time": "2023-01-27T18:25:46.840717",
     "status": "completed"
    },
    "tags": []
   },
   "outputs": [
    {
     "name": "stderr",
     "output_type": "stream",
     "text": [
      "/opt/conda/lib/python3.7/site-packages/ipykernel_launcher.py:2: VisibleDeprecationWarning: Creating an ndarray from ragged nested sequences (which is a list-or-tuple of lists-or-tuples-or ndarrays with different lengths or shapes) is deprecated. If you meant to do this, you must specify 'dtype=object' when creating the ndarray.\n",
      "  \n"
     ]
    }
   ],
   "source": [
    "\n",
    "from sklearn.model_selection import train_test_split\n",
    "X_train, X_test, y_train, y_test = train_test_split(np.array(mp3_list), \n",
    "                                                    np.array(text_list),\n",
    "                                                    test_size=0.33,\n",
    "                                                    random_state=42)\n",
    "\n",
    "X_val, X_test, y_val, y_test = train_test_split(X_test, \n",
    "                                                y_test,\n",
    "                                                test_size=0.5,\n",
    "                                                random_state=42)"
   ]
  },
  {
   "cell_type": "code",
   "execution_count": null,
   "id": "b8c625ff",
   "metadata": {
    "execution": {
     "iopub.execute_input": "2023-01-27T18:24:05.508767Z",
     "iopub.status.busy": "2023-01-27T18:24:05.508306Z",
     "iopub.status.idle": "2023-01-27T18:24:05.516367Z",
     "shell.execute_reply": "2023-01-27T18:24:05.514934Z",
     "shell.execute_reply.started": "2023-01-27T18:24:05.508714Z"
    },
    "papermill": {
     "duration": 0.011051,
     "end_time": "2023-01-27T18:25:47.906999",
     "exception": false,
     "start_time": "2023-01-27T18:25:47.895948",
     "status": "completed"
    },
    "tags": []
   },
   "outputs": [],
   "source": []
  },
  {
   "cell_type": "code",
   "execution_count": null,
   "id": "1744d637",
   "metadata": {
    "papermill": {
     "duration": 0.009639,
     "end_time": "2023-01-27T18:25:47.928468",
     "exception": false,
     "start_time": "2023-01-27T18:25:47.918829",
     "status": "completed"
    },
    "tags": []
   },
   "outputs": [],
   "source": []
  }
 ],
 "metadata": {
  "kernelspec": {
   "display_name": "Python 3",
   "language": "python",
   "name": "python3"
  },
  "language_info": {
   "codemirror_mode": {
    "name": "ipython",
    "version": 3
   },
   "file_extension": ".py",
   "mimetype": "text/x-python",
   "name": "python",
   "nbconvert_exporter": "python",
   "pygments_lexer": "ipython3",
   "version": "3.7.12"
  },
  "papermill": {
   "default_parameters": {},
   "duration": 54.976691,
   "end_time": "2023-01-27T18:25:48.761320",
   "environment_variables": {},
   "exception": null,
   "input_path": "__notebook__.ipynb",
   "output_path": "__notebook__.ipynb",
   "parameters": {},
   "start_time": "2023-01-27T18:24:53.784629",
   "version": "2.3.4"
  }
 },
 "nbformat": 4,
 "nbformat_minor": 5
}
